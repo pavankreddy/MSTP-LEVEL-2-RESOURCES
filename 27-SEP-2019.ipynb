{
 "cells": [
  {
   "cell_type": "markdown",
   "metadata": {},
   "source": [
    "# Ruth and Aron Pairs\n"
   ]
  },
  {
   "cell_type": "code",
   "execution_count": 1,
   "metadata": {},
   "outputs": [
    {
     "name": "stdout",
     "output_type": "stream",
     "text": [
      "1\n",
      "24 25\n",
      "True\n"
     ]
    }
   ],
   "source": [
    "n = int(input())\n",
    "for i in range(n):\n",
    "    l = input().split()\n",
    "    val = []\n",
    "    for j in l:\n",
    "        val.append(int(j))\n",
    "    s1,s2 = 0,0\n",
    "    for k in range(2,(val[0]//2)+1):\n",
    "        if val[0]%k == 0:\n",
    "            counter = 0\n",
    "            for c in range(2,k):\n",
    "                if k%c == 0:\n",
    "                    counter += 1\n",
    "            if counter == 0:\n",
    "                s1 += k\n",
    "    for k in range(2,(val[1]//2)+1):\n",
    "        if val[1]%k == 0:\n",
    "            counter = 0\n",
    "            for c in range(2,k):\n",
    "                if k%c == 0:\n",
    "                    counter += 1\n",
    "            if counter == 0:\n",
    "                s2 += k\n",
    "    if s1 == s2:\n",
    "        print(\"True\")\n",
    "    else:\n",
    "        print(\"False\")"
   ]
  },
  {
   "cell_type": "markdown",
   "metadata": {},
   "source": [
    "# Pentagonal Number "
   ]
  },
  {
   "cell_type": "code",
   "execution_count": 2,
   "metadata": {},
   "outputs": [
    {
     "name": "stdout",
     "output_type": "stream",
     "text": [
      "1\n",
      "5\n",
      "51\n"
     ]
    }
   ],
   "source": [
    "m = int(input())\n",
    "for i in range(m):\n",
    "    num = int(input())\n",
    "    nd = 1\n",
    "    for j in range(2,num+1):\n",
    "        nd += (j-1)*5\n",
    "    print(nd)"
   ]
  },
  {
   "cell_type": "markdown",
   "metadata": {},
   "source": [
    "# Shiritori Game"
   ]
  },
  {
   "cell_type": "code",
   "execution_count": null,
   "metadata": {},
   "outputs": [],
   "source": [
    "n = int(input())\n",
    "for i in range(n):\n",
    "    l = input().split()\n",
    "    status = True\n",
    "    for j in range(1,len(l)):\n",
    "        if l[j][0] != l[j-1][-1]:\n",
    "            status = False\n",
    "        if l.count(l[j])>1:\n",
    "            status = False\n",
    "    if status:\n",
    "        print(\"Valid\")\n",
    "    else:\n",
    "        print(\"Invalid\")"
   ]
  },
  {
   "cell_type": "markdown",
   "metadata": {},
   "source": [
    "# Modular Programming Using Python"
   ]
  },
  {
   "cell_type": "markdown",
   "metadata": {},
   "source": [
    "- Functions are the self contained block of statements that performs a particular task of some kind\n",
    "- These functions can be called from anywhere in the program - So that we avoid situations where we write the same code multiple Number of Times\n",
    "- There are two kinds of Functions in Python\n",
    "    - Built-in Functions\n",
    "        - int()\n",
    "        - input()\n",
    "        - max()\n",
    "        - count()\n",
    "        - min()\n",
    "        - abs()\n",
    "    - User defined Functions\n",
    "- User defined functions in python can be in three models\n",
    "    - Functions with No Arguments - No return values\n",
    "    - Functions with Arguments - No return Values\n",
    "    - Functions with Arguments - return Values\n",
    "    - Functions with No arguments - With Return Values\n",
    "    \n",
    "- How to define a function\n",
    "- def functionname(Arguments):\n",
    "      --Statements--"
   ]
  },
  {
   "cell_type": "code",
   "execution_count": 6,
   "metadata": {},
   "outputs": [
    {
     "name": "stdout",
     "output_type": "stream",
     "text": [
      "Not an Odd Number\n"
     ]
    }
   ],
   "source": [
    "# Functions with Arguments - No Return Values\n",
    "def oddNum(num):\n",
    "    if num%2!=0:\n",
    "        print(\"odd\")\n",
    "    else:\n",
    "        print(\"Not an Odd Number\")\n",
    "\n",
    "# Call a function\n",
    "oddNum(4)"
   ]
  },
  {
   "cell_type": "code",
   "execution_count": 9,
   "metadata": {},
   "outputs": [
    {
     "name": "stdout",
     "output_type": "stream",
     "text": [
      "YES\n"
     ]
    }
   ],
   "source": [
    "# Functions with Arguments - with Return Values\n",
    "def oddNum(num):\n",
    "    if num%2!=0:\n",
    "        return True\n",
    "    else:\n",
    "        return False\n",
    "\n",
    "# Call a function\n",
    "va = oddNum(3)\n",
    "if va:\n",
    "    print(\"YES\")\n",
    "else:\n",
    "    print(\"No\")"
   ]
  },
  {
   "cell_type": "code",
   "execution_count": 13,
   "metadata": {},
   "outputs": [
    {
     "name": "stdout",
     "output_type": "stream",
     "text": [
      "[1, 'PAVAN', 2342.3453]\n"
     ]
    }
   ],
   "source": [
    "# Functions with No Arguments and with Return Values\n",
    "def fun():\n",
    "    l = [1,\"PAVAN\",2342.3453]\n",
    "    return l\n",
    "\n",
    "b = fun()\n",
    "print(b)\n"
   ]
  },
  {
   "cell_type": "code",
   "execution_count": 17,
   "metadata": {},
   "outputs": [
    {
     "name": "stdout",
     "output_type": "stream",
     "text": [
      "1\n",
      "24 25\n",
      "True\n"
     ]
    }
   ],
   "source": [
    "# Ruth - Aaron Pairs - Reconstructed - Using Functions\n",
    "def fun(num):\n",
    "    s1 = 0\n",
    "    for k in range(2,(num//2)+1):\n",
    "        if val[0]%k == 0:\n",
    "            counter = 0\n",
    "            for c in range(2,k):\n",
    "                if k%c == 0:\n",
    "                    counter += 1\n",
    "            if counter == 0:\n",
    "                s1 += k\n",
    "    return s1\n",
    "n = int(input())\n",
    "for i in range(n):\n",
    "    l = input().split()\n",
    "    val = []\n",
    "    for j in l:\n",
    "        val.append(int(j))\n",
    "    s1 = fun(val[0])\n",
    "    s2 = fun(val[1])\n",
    "    if s1 == s2:\n",
    "        print(\"True\")\n",
    "    else:\n",
    "        print(\"False\")"
   ]
  },
  {
   "cell_type": "markdown",
   "metadata": {},
   "source": [
    "###### Assignments - Complete all of the following using Functions\n",
    "- Find if a given Number is palindromic number  \n",
    "- Find the Nth Number in the fibonacci series\n",
    "- Find if a given number is Prime Number or Not\n",
    "- Calculate the area of a circle when radius is given"
   ]
  },
  {
   "cell_type": "markdown",
   "metadata": {},
   "source": [
    "# Emirps, Bemirps & Fun - Assignment to be submitted on Monday ie., 30-SEP-2019"
   ]
  },
  {
   "cell_type": "markdown",
   "metadata": {},
   "source": [
    "A prime number is a number whose only proper (non-self) divisor is 1 (example 13).\n",
    "\n",
    "An emirp (prime spelled backwards) is a non-palindromic prime which, when its digits are reversed, makes another prime. E.g. 13 is a prime, and so is 31. Both are therefore emirps.\n",
    "\n",
    "A bemirp is a prime which is an emirp (makes another prime with its digits reversed), but additionally, makes another prime when flipped upside down (see note). The upside-down version is also an emirp, which makes a group of 4 primes. Bemirps consist only of digits 0, 1, 6, 8, and 9.\n",
    "\n",
    "To illustrate: 11061811, reversed = 11816011, upside-down = 11091811, upside-down reversed = 11819011. All four are primes.\n",
    "\n",
    "Create a program that takes 'N' number of numbers and for each number it returns \"B\" if it’s a bemirp, \"E\" if it's a (non-bemirp) emirp, \"P\" if it's a (non-emirp) prime, or \"C\" (composite / non-prime).\n",
    "\n",
    "Examples\n",
    "\n",
    "bemirp(101) ➞ \"P\"\n",
    "\n",
    "bemirp(1011) ➞ \"C\"\n",
    "\n",
    "bemirp(1069) ➞ \"E\"\n",
    "\n",
    "bemirp(1061) ➞ \"B\"\n",
    "\n",
    "Notes\n",
    "\n",
    "6 upside-down is 9 and vice-versa. 0, 1, and 8 are unchanged when flipped. The remaining five digits are unflippable."
   ]
  },
  {
   "cell_type": "code",
   "execution_count": null,
   "metadata": {},
   "outputs": [],
   "source": []
  }
 ],
 "metadata": {
  "kernelspec": {
   "display_name": "Python 3",
   "language": "python",
   "name": "python3"
  },
  "language_info": {
   "codemirror_mode": {
    "name": "ipython",
    "version": 3
   },
   "file_extension": ".py",
   "mimetype": "text/x-python",
   "name": "python",
   "nbconvert_exporter": "python",
   "pygments_lexer": "ipython3",
   "version": "3.7.3"
  }
 },
 "nbformat": 4,
 "nbformat_minor": 2
}
