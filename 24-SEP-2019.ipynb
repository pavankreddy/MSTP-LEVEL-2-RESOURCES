{
 "cells": [
  {
   "cell_type": "markdown",
   "metadata": {},
   "source": [
    "Agenda\n",
    "- Find the Highest Frequent character in the given String \n",
    "- Find the Second Highest Frequent Character in the Given String\n",
    "- Find the Kth Highest Frequent Character in the given string\n",
    "- Find the Kth Highest Frequent Character in the given Stirng and if there no kth frequency - Print-1\n",
    "- Find the Highest Frequent Character in the given String - if there are multiple characters of the same Frequency - print the character that has the least ascii value"
   ]
  },
  {
   "cell_type": "markdown",
   "metadata": {},
   "source": [
    "# Find the highest frequency of a character in the given string\n",
    "- gayatrividyaparishadcollegeofengineering"
   ]
  },
  {
   "cell_type": "code",
   "execution_count": 9,
   "metadata": {},
   "outputs": [
    {
     "name": "stdout",
     "output_type": "stream",
     "text": [
      "Enter a Stringgayatri\n",
      "a\n"
     ]
    }
   ],
   "source": [
    "string = input(\"Enter a String\")\n",
    "dictionary = {}\n",
    "for i in string:\n",
    "    dictionary[i] = string.count(i)\n",
    "lists = max(dictionary.values())\n",
    "max_element = ''\n",
    "for i in dictionary.items():\n",
    "    if i[1] == lists:\n",
    "        max_element = i[0]\n",
    "print(max_element)"
   ]
  },
  {
   "cell_type": "markdown",
   "metadata": {},
   "source": [
    "# Find the second highest frequency element from any given string\n"
   ]
  },
  {
   "cell_type": "code",
   "execution_count": 22,
   "metadata": {},
   "outputs": [
    {
     "name": "stdout",
     "output_type": "stream",
     "text": [
      "Enter a String aabbaaccbb\n",
      "c\n"
     ]
    }
   ],
   "source": [
    "string = input(\"Enter a String \")\n",
    "dictionary = {}\n",
    "for i in string:\n",
    "    dictionary[i] = string.count(i)\n",
    "\n",
    "# Make The List unique\n",
    "lists = dictionary.values()\n",
    "unique_list = []\n",
    "for i in lists:\n",
    "    if i not in unique_list:\n",
    "        unique_list.append(i)\n",
    "unique_list = sorted(unique_list,reverse=True)\n",
    "second_max_num = unique_list[1]\n",
    "\n",
    "for i in dictionary.items():\n",
    "    if i[1] == second_max_num:\n",
    "        max_element = i[0]\n",
    "print(max_element)\n",
    "  "
   ]
  },
  {
   "cell_type": "code",
   "execution_count": 23,
   "metadata": {},
   "outputs": [
    {
     "data": {
      "text/plain": [
       "97"
      ]
     },
     "execution_count": 23,
     "metadata": {},
     "output_type": "execute_result"
    }
   ],
   "source": [
    "# aabbccaabb\n",
    "# 4444224444\n",
    "# {'a':4,'b':4,'c':2}\n",
    "# [4,4,2]\n",
    "# [4,2]\n",
    "\n",
    "ord('a')"
   ]
  },
  {
   "cell_type": "code",
   "execution_count": 24,
   "metadata": {},
   "outputs": [
    {
     "data": {
      "text/plain": [
       "65"
      ]
     },
     "execution_count": 24,
     "metadata": {},
     "output_type": "execute_result"
    }
   ],
   "source": [
    "ord('A')"
   ]
  },
  {
   "cell_type": "code",
   "execution_count": 25,
   "metadata": {},
   "outputs": [
    {
     "data": {
      "text/plain": [
       "'C'"
      ]
     },
     "execution_count": 25,
     "metadata": {},
     "output_type": "execute_result"
    }
   ],
   "source": [
    "chr(67)"
   ]
  },
  {
   "cell_type": "code",
   "execution_count": 26,
   "metadata": {},
   "outputs": [
    {
     "data": {
      "text/plain": [
       "'c'"
      ]
     },
     "execution_count": 26,
     "metadata": {},
     "output_type": "execute_result"
    }
   ],
   "source": [
    "chr(99)"
   ]
  },
  {
   "cell_type": "code",
   "execution_count": null,
   "metadata": {},
   "outputs": [],
   "source": []
  }
 ],
 "metadata": {
  "kernelspec": {
   "display_name": "Python 3",
   "language": "python",
   "name": "python3"
  },
  "language_info": {
   "codemirror_mode": {
    "name": "ipython",
    "version": 3
   },
   "file_extension": ".py",
   "mimetype": "text/x-python",
   "name": "python",
   "nbconvert_exporter": "python",
   "pygments_lexer": "ipython3",
   "version": "3.7.3"
  }
 },
 "nbformat": 4,
 "nbformat_minor": 2
}
